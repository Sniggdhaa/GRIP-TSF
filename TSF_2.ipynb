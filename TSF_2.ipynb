{
  "nbformat": 4,
  "nbformat_minor": 0,
  "metadata": {
    "colab": {
      "name": "TSF_2",
      "provenance": [],
      "collapsed_sections": []
    },
    "kernelspec": {
      "name": "python3",
      "display_name": "Python 3"
    }
  },
  "cells": [
    {
      "cell_type": "markdown",
      "metadata": {
        "id": "nHkGzoxgMJrZ",
        "colab_type": "text"
      },
      "source": [
        "# **TASK 2: To Explore Supervised Machine Learning**\n",
        "\n",
        "---\n"
      ]
    },
    {
      "cell_type": "markdown",
      "metadata": {
        "id": "A99-rBZJMhox",
        "colab_type": "text"
      },
      "source": [
        "This is a simple linear regression task as it involves just two variables. We will predict the percentage of marks that a student is expected to score based upon the number of hours they studied. "
      ]
    },
    {
      "cell_type": "code",
      "metadata": {
        "id": "TaF7QYka657P",
        "colab_type": "code",
        "colab": {}
      },
      "source": [
        "#Importing needed packages\n",
        "import matplotlib.pyplot as plt\n",
        "import pandas as pd\n",
        "import numpy as np\n",
        "import matplotlib.style as style\n",
        "import seaborn as sns\n"
      ],
      "execution_count": 98,
      "outputs": []
    },
    {
      "cell_type": "code",
      "metadata": {
        "id": "cU7jgNDOkmRg",
        "colab_type": "code",
        "colab": {}
      },
      "source": [
        "style.use('seaborn-poster')\n",
        "sns.set_style('darkgrid')"
      ],
      "execution_count": 99,
      "outputs": []
    },
    {
      "cell_type": "markdown",
      "metadata": {
        "id": "p1e5Q8GVM5rF",
        "colab_type": "text"
      },
      "source": [
        "# **Understanding the data**\n",
        "\n",
        "\n",
        "*   **Hours** : Number of hours studied\n",
        "*   **Scores** : Percentage Score\n",
        "\n"
      ]
    },
    {
      "cell_type": "code",
      "metadata": {
        "id": "g28atW7g7VAZ",
        "colab_type": "code",
        "colab": {
          "base_uri": "https://localhost:8080/",
          "height": 204
        },
        "outputId": "5e4e0840-524e-4ec4-f2c9-c2a62c3deffb"
      },
      "source": [
        "#Getting the data\n",
        "data = pd.read_csv('http://www.bitly.com/w-data')\n",
        "data.head()"
      ],
      "execution_count": 100,
      "outputs": [
        {
          "output_type": "execute_result",
          "data": {
            "text/html": [
              "<div>\n",
              "<style scoped>\n",
              "    .dataframe tbody tr th:only-of-type {\n",
              "        vertical-align: middle;\n",
              "    }\n",
              "\n",
              "    .dataframe tbody tr th {\n",
              "        vertical-align: top;\n",
              "    }\n",
              "\n",
              "    .dataframe thead th {\n",
              "        text-align: right;\n",
              "    }\n",
              "</style>\n",
              "<table border=\"1\" class=\"dataframe\">\n",
              "  <thead>\n",
              "    <tr style=\"text-align: right;\">\n",
              "      <th></th>\n",
              "      <th>Hours</th>\n",
              "      <th>Scores</th>\n",
              "    </tr>\n",
              "  </thead>\n",
              "  <tbody>\n",
              "    <tr>\n",
              "      <th>0</th>\n",
              "      <td>2.5</td>\n",
              "      <td>21</td>\n",
              "    </tr>\n",
              "    <tr>\n",
              "      <th>1</th>\n",
              "      <td>5.1</td>\n",
              "      <td>47</td>\n",
              "    </tr>\n",
              "    <tr>\n",
              "      <th>2</th>\n",
              "      <td>3.2</td>\n",
              "      <td>27</td>\n",
              "    </tr>\n",
              "    <tr>\n",
              "      <th>3</th>\n",
              "      <td>8.5</td>\n",
              "      <td>75</td>\n",
              "    </tr>\n",
              "    <tr>\n",
              "      <th>4</th>\n",
              "      <td>3.5</td>\n",
              "      <td>30</td>\n",
              "    </tr>\n",
              "  </tbody>\n",
              "</table>\n",
              "</div>"
            ],
            "text/plain": [
              "   Hours  Scores\n",
              "0    2.5      21\n",
              "1    5.1      47\n",
              "2    3.2      27\n",
              "3    8.5      75\n",
              "4    3.5      30"
            ]
          },
          "metadata": {
            "tags": []
          },
          "execution_count": 100
        }
      ]
    },
    {
      "cell_type": "markdown",
      "metadata": {
        "id": "ugAzOdyXN0mh",
        "colab_type": "text"
      },
      "source": [
        "Plotting Hours vs Scores, to see how linear is their relation"
      ]
    },
    {
      "cell_type": "code",
      "metadata": {
        "id": "YRZ6ccs07VDb",
        "colab_type": "code",
        "colab": {
          "base_uri": "https://localhost:8080/",
          "height": 539
        },
        "outputId": "e97f02c2-a4be-45f3-ace9-b59fe71f22e5"
      },
      "source": [
        "plt.scatter(data.Hours, data.Scores)\n",
        "plt.show()"
      ],
      "execution_count": 101,
      "outputs": [
        {
          "output_type": "display_data",
          "data": {
            "image/png": "[encoded data removed]",
            "text/plain": [
              "<Figure size 921.6x633.6 with 1 Axes>"
            ]
          },
          "metadata": {
            "tags": []
          }
        }
      ]
    },
    {
      "cell_type": "markdown",
      "metadata": {
        "id": "2GaYfUiIOVIz",
        "colab_type": "text"
      },
      "source": [
        "# **Train and Test dataset**\n",
        "\n",
        "\n",
        "*   Train/Test Split involves splitting the dataset into training and testing sets respectively to provide a more accurate evaluation on out-of-sample accuracy because the testing dataset is not part of the dataset that have been used to train the data. It is more realistic for real world problems.\n",
        "\n"
      ]
    },
    {
      "cell_type": "code",
      "metadata": {
        "id": "mBL9u74h7VIo",
        "colab_type": "code",
        "colab": {}
      },
      "source": [
        "#80% training set, 20% testing set\n",
        "msk = np.random.rand(len(data)) < 0.8\n",
        "train = data[msk]\n",
        "test = data[~msk]"
      ],
      "execution_count": 102,
      "outputs": []
    },
    {
      "cell_type": "code",
      "metadata": {
        "id": "gfrHTqWM7VPx",
        "colab_type": "code",
        "colab": {}
      },
      "source": [
        "#Using sklearn package to model data\n",
        "from sklearn import linear_model\n",
        "regr = linear_model.LinearRegression()"
      ],
      "execution_count": 103,
      "outputs": []
    },
    {
      "cell_type": "markdown",
      "metadata": {
        "id": "zHbPXpQBPvag",
        "colab_type": "text"
      },
      "source": [
        "Coefficient and Intercept in the simple linear regression, are the parameters of the fit line.\n",
        "Given that it is a simple linear regression, sklearn can estimate them directly from our data."
      ]
    },
    {
      "cell_type": "code",
      "metadata": {
        "id": "K8vWtlDb7VW0",
        "colab_type": "code",
        "colab": {
          "base_uri": "https://localhost:8080/",
          "height": 51
        },
        "outputId": "1342020b-33b6-4437-cf8d-d843d4b20c14"
      },
      "source": [
        "train_x = np.asanyarray(train[['Hours']])\n",
        "train_y = np.asanyarray(train[['Scores']])\n",
        "regr.fit (train_x, train_y)\n",
        "# The coefficients\n",
        "print ('Coefficients: ', regr.coef_)\n",
        "print ('Intercept: ',regr.intercept_)"
      ],
      "execution_count": 104,
      "outputs": [
        {
          "output_type": "stream",
          "text": [
            "Coefficients:  [[9.98754768]]\n",
            "Intercept:  [2.01369363]\n"
          ],
          "name": "stdout"
        }
      ]
    },
    {
      "cell_type": "code",
      "metadata": {
        "id": "DWJS45IE7VcH",
        "colab_type": "code",
        "colab": {
          "base_uri": "https://localhost:8080/",
          "height": 539
        },
        "outputId": "edfa109b-6342-4cfa-c017-5efa5a5be93d"
      },
      "source": [
        "plt.scatter(data.Hours, data.Scores)\n",
        "#Plotting best fit line over the data\n",
        "plt.plot(train_x, regr.coef_[0][0]*train_x + regr.intercept_[0], '-r')\n",
        "plt.show()"
      ],
      "execution_count": 105,
      "outputs": [
        {
          "output_type": "display_data",
          "data": {
            "image/png": "[encoded data removed]",
            "text/plain": [
              "<Figure size 921.6x633.6 with 1 Axes>"
            ]
          },
          "metadata": {
            "tags": []
          }
        }
      ]
    },
    {
      "cell_type": "markdown",
      "metadata": {
        "id": "0TVQ4mfLQN5a",
        "colab_type": "text"
      },
      "source": [
        "# **Evaluation**\n",
        "\n",
        "> - Mean absolute error: It is the mean of the absolute value of the errors.\n",
        "- Mean Squared Error (MSE): It) is the mean of the squared error. It is geared more towards large errors due to the squared term exponentially increasing larger errors in comparison to smaller ones.\n",
        "- R-squared represents how close the data are to the fitted regression line. The higher the R-squared, the better the model fits your data. Best possible score is 1.0.\n",
        "\n"
      ]
    },
    {
      "cell_type": "code",
      "metadata": {
        "id": "_0fznWpv7VZ5",
        "colab_type": "code",
        "colab": {
          "base_uri": "https://localhost:8080/",
          "height": 68
        },
        "outputId": "0a8ce5e4-7bf5-47e9-8cc4-b73fe89fdd75"
      },
      "source": [
        "from sklearn.metrics import r2_score\n",
        "\n",
        "test_x = np.asanyarray(train[['Hours']])\n",
        "test_y = np.asanyarray(train[['Scores']])\n",
        "test_y_1 = regr.predict(test_x)\n",
        "\n",
        "print(\"Mean absolute error: %.2f\" % np.mean(np.absolute(test_y_1 - test_y)))\n",
        "print(\"Residual sum of squares (MSE): %.2f\" % np.mean((test_y_1 - test_y) ** 2))\n",
        "print(\"R2-score: %.2f\" % r2_score(test_y_1 , test_y) )"
      ],
      "execution_count": 106,
      "outputs": [
        {
          "output_type": "stream",
          "text": [
            "Mean absolute error: 4.86\n",
            "Residual sum of squares (MSE): 26.85\n",
            "R2-score: 0.96\n"
          ],
          "name": "stdout"
        }
      ]
    },
    {
      "cell_type": "markdown",
      "metadata": {
        "id": "XLbgch_HRQjs",
        "colab_type": "text"
      },
      "source": [
        "# **Making Predictions**\n",
        "\n",
        "\n",
        "*   What will be predicted score if a student studies for 9.25 hours in a day?\n",
        "\n"
      ]
    },
    {
      "cell_type": "code",
      "metadata": {
        "id": "GfBoYPU7-iod",
        "colab_type": "code",
        "colab": {
          "base_uri": "https://localhost:8080/",
          "height": 102
        },
        "outputId": "b8fca761-b541-4c73-db71-74dcf49544d9"
      },
      "source": [
        "Test_hours = np.array([9.25,9.5,9.75,9.90])\n",
        "Test_hours = Test_hours.reshape(-1,1)\n",
        "Pred_Scores = regr.predict(Test_hours)\n",
        "\n",
        "print('Hours\\tPredicted Score')\n",
        "for h,s in zip(Test_hours,Pred_Scores):\n",
        "  print('{}\\t{}'.format(h,s))"
      ],
      "execution_count": 107,
      "outputs": [
        {
          "output_type": "stream",
          "text": [
            "Hours\tPredicted Score\n",
            "[9.25]\t[94.39850965]\n",
            "[9.5]\t[96.89539657]\n",
            "[9.75]\t[99.39228349]\n",
            "[9.9]\t[100.89041564]\n"
          ],
          "name": "stdout"
        }
      ]
    }
  ]
}